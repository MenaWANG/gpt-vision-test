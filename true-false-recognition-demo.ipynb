{
 "cells": [
  {
   "cell_type": "markdown",
   "metadata": {},
   "source": [
    "## 📸 True or False Recognition Demo\n",
    "\n",
    "The purpose of this demo is a minimalist test of GPT-4's workflow in document recognition tasks. The code in this notebook accomplishes the tasks below:\n",
    "\n",
    "- 🖼️ Submit an image of a document to the GPT-4 model.\n",
    "- 🧪 True/False classification : Receive a response indicating whether the document appears to be a certain type or contains certain content.\n",
    "- 📝 Details: Get additional details or insights about the document based on the model's analysis.\n",
    "\n",
    "You should be able to run the code if you have either `OPENAI_API_KEY` or relevant Azure resources configured in your `.env` (pls see the project `ReadMe` for details). \n",
    "\n",
    "Let's get started. \n",
    "\n"
   ]
  },
  {
   "cell_type": "code",
   "execution_count": 13,
   "metadata": {},
   "outputs": [],
   "source": [
    "import os\n",
    "import base64\n",
    "import requests\n",
    "from mimetypes import guess_type\n",
    "import json\n",
    "from dotenv import load_dotenv\n",
    "load_dotenv()\n",
    "openai_api_key = os.getenv(\"OPENAI_API_KEY\")\n",
    "azure_api_key = os.getenv(\"AZURE_API_KEY\")"
   ]
  },
  {
   "cell_type": "markdown",
   "metadata": {},
   "source": [
    "## Image Preprocessing\n",
    "\n",
    "Encode a local image into base64 format and generating a data URL for it. "
   ]
  },
  {
   "cell_type": "code",
   "execution_count": 14,
   "metadata": {},
   "outputs": [],
   "source": [
    "# Function to encode the image\n",
    "def encode_image(image_path):\n",
    "  with open(image_path, \"rb\") as image_file:\n",
    "    return base64.b64encode(image_file.read()).decode('utf-8')\n",
    "\n",
    "# Function to encode a local image into data URL \n",
    "def local_image_to_data_url(image_path):\n",
    "    # Guess the MIME type of the image based on the file extension\n",
    "    mime_type, _ = guess_type(image_path)\n",
    "    if mime_type is None:\n",
    "        mime_type = 'application/octet-stream'  # Default MIME type if none is found\n",
    "\n",
    "    # Read and encode the image file\n",
    "    base64_encoded_data = encode_image(image_path)\n",
    "\n",
    "    # Construct the data URL\n",
    "    return f\"data:{mime_type};base64,{base64_encoded_data}\""
   ]
  },
  {
   "cell_type": "code",
   "execution_count": 15,
   "metadata": {},
   "outputs": [],
   "source": [
    "# Path to your image\n",
    "image_path = \"images/dummy-receipt1.png\"\n",
    "\n",
    "# Getting the data path\n",
    "data_url = local_image_to_data_url(image_path)"
   ]
  },
  {
   "cell_type": "markdown",
   "metadata": {},
   "source": [
    "## Model Input Payload\n",
    "\n",
    "Payload structure for submitting an image and a True/False question to the GPT-4 model, along with user role specification."
   ]
  },
  {
   "cell_type": "code",
   "execution_count": 16,
   "metadata": {},
   "outputs": [],
   "source": [
    "payload = {\n",
    "  \"model\": \"gpt-4-turbo\",\n",
    "  \"messages\": [\n",
    "    {\n",
    "      \"role\": \"user\",\n",
    "      \"content\": [\n",
    "        {\n",
    "          \"type\": \"text\",\n",
    "          \"text\": \"Is this a receipt of healthcare service? Pls start your response with True or False, then offer your reasoning in 1-2 setences.\"\n",
    "        },\n",
    "        {\n",
    "          \"type\": \"image_url\",\n",
    "          \"image_url\": {\n",
    "            \"url\": data_url\n",
    "          }\n",
    "        }\n",
    "      ]\n",
    "    }\n",
    "  ],\n",
    "  \"max_tokens\": 300 # Remember to set a \"max_tokens\" value, or the return output will be cut off.\n",
    "}"
   ]
  },
  {
   "cell_type": "markdown",
   "metadata": {},
   "source": [
    "## Model Request Execution\n",
    "Send a POST request to the model endpoint with the specified headers and payload."
   ]
  },
  {
   "cell_type": "code",
   "execution_count": 17,
   "metadata": {},
   "outputs": [],
   "source": [
    "# Test with Azure endpoint if it is provided, otherwise connect to the openai endpoint\n",
    "post_url = os.getenv(\"AZURE_ENDPOINT\", \"https://api.openai.com/v1/chat/completions\")"
   ]
  },
  {
   "cell_type": "code",
   "execution_count": 18,
   "metadata": {},
   "outputs": [
    {
     "name": "stdout",
     "output_type": "stream",
     "text": [
      "Test with OpenAI API\n"
     ]
    }
   ],
   "source": [
    "# Test with azure_api_key if it is available in the environment, else use openai_api_key for this test\n",
    "headers = {\n",
    "  \"Content-Type\": \"application/json\",\n",
    "}\n",
    "if azure_api_key:\n",
    "    headers['api-key'] = azure_api_key\n",
    "    print('Test with GPT-Vision on Azure AI Studio')\n",
    "elif openai_api_key:\n",
    "    headers['Authorization'] = f\"Bearer {openai_api_key}\"\n",
    "    print('Test with OpenAI API')\n",
    "else:\n",
    "    print('Please define API key in the environment first, more info available in project ReadMe')"
   ]
  },
  {
   "cell_type": "code",
   "execution_count": 19,
   "metadata": {},
   "outputs": [],
   "source": [
    "response = requests.post(post_url, headers=headers, json=payload)"
   ]
  },
  {
   "cell_type": "markdown",
   "metadata": {},
   "source": [
    "# Extract and Print Information\n",
    "Extract relevant information from the model response and print it for analysis."
   ]
  },
  {
   "cell_type": "code",
   "execution_count": 20,
   "metadata": {},
   "outputs": [
    {
     "name": "stdout",
     "output_type": "stream",
     "text": [
      "Healthcare service receipt: False\n",
      "Details: This is not a receipt of healthcare service; it is a receipt for bicycle repair services as evidenced by items such as \"Front and rear brake cables\" and \"New set of pedal arms.\" The description and pricing are related to bicycle parts and labor for installation or repair.\n"
     ]
    }
   ],
   "source": [
    "response_data = response.json()\n",
    "\n",
    "# Format the full response\n",
    "full_response = json.dumps(response_data, indent=4)\n",
    "\n",
    "# Extracting true or false from the response\n",
    "is_healthcare_receipt = response_data['choices'][0]['message']['content'].startswith('True')\n",
    "\n",
    "# Extracting details from the response\n",
    "content_split = response_data['choices'][0]['message']['content'].split('. ')\n",
    "details = content_split[1] if len(content_split) > 1 else \"\"\n",
    "\n",
    "\n",
    "# Printing the extracted information\n",
    "print(\"Healthcare service receipt:\", is_healthcare_receipt)\n",
    "print(\"Details:\", details)\n",
    "# print(\"Full response:\", full_response)"
   ]
  }
 ],
 "metadata": {
  "kernelspec": {
   "display_name": ".venv",
   "language": "python",
   "name": "python3"
  },
  "language_info": {
   "codemirror_mode": {
    "name": "ipython",
    "version": 3
   },
   "file_extension": ".py",
   "mimetype": "text/x-python",
   "name": "python",
   "nbconvert_exporter": "python",
   "pygments_lexer": "ipython3",
   "version": "3.11.2"
  }
 },
 "nbformat": 4,
 "nbformat_minor": 2
}
